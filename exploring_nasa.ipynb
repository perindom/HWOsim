{
 "cells": [
  {
   "cell_type": "markdown",
   "metadata": {},
   "source": [
    "# Data Processing and Analytics"
   ]
  },
  {
   "cell_type": "code",
   "execution_count": null,
   "metadata": {},
   "outputs": [],
   "source": [
    "import matplotlib.pyplot as plt"
   ]
  },
  {
   "cell_type": "code",
   "execution_count": null,
   "metadata": {},
   "outputs": [],
   "source": [
    "from astropy.io import fits"
   ]
  },
  {
   "cell_type": "code",
   "execution_count": 4,
   "metadata": {},
   "outputs": [
    {
     "name": "stdout",
     "output_type": "stream",
     "text": [
      "Name: astroquery\n",
      "Version: 0.4.7\n",
      "Summary: Functions and classes to access online astronomical data resources\n",
      "Home-page: \n",
      "Author: The Astroquery Developers\n",
      "Author-email: \n",
      "License: BSD\n",
      "Location: /Users/dominickperini/opt/anaconda3/lib/python3.8/site-packages\n",
      "Requires: astropy, beautifulsoup4, html5lib, keyring, numpy, pyvo, requests\n",
      "Required-by: \n",
      "Note: you may need to restart the kernel to use updated packages.\n"
     ]
    }
   ],
   "source": [
    "%pip show astroquery"
   ]
  },
  {
   "cell_type": "code",
   "execution_count": 5,
   "metadata": {},
   "outputs": [
    {
     "name": "stdout",
     "output_type": "stream",
     "text": [
      "Name: astropy\n",
      "Version: 5.2.2\n",
      "Summary: Astronomy and astrophysics core library\n",
      "Home-page: http://astropy.org\n",
      "Author: The Astropy Developers\n",
      "Author-email: astropy.team@gmail.com\n",
      "License: BSD-3-Clause\n",
      "Location: /Users/dominickperini/opt/anaconda3/lib/python3.8/site-packages\n",
      "Requires: numpy, packaging, pyerfa, PyYAML\n",
      "Required-by: astroquery, pyvo\n",
      "Note: you may need to restart the kernel to use updated packages.\n"
     ]
    }
   ],
   "source": [
    "%pip show astropy"
   ]
  },
  {
   "cell_type": "code",
   "execution_count": 3,
   "metadata": {},
   "outputs": [
    {
     "name": "stdout",
     "output_type": "stream",
     "text": [
      "Requirement already satisfied: astroquery in /Users/dominickperini/opt/anaconda3/lib/python3.8/site-packages (0.4.7)\n",
      "Requirement already satisfied: numpy>=1.18 in /Users/dominickperini/opt/anaconda3/lib/python3.8/site-packages (from astroquery) (1.24.4)\n",
      "Requirement already satisfied: astropy>=4.2.1 in /Users/dominickperini/opt/anaconda3/lib/python3.8/site-packages (from astroquery) (5.2.2)\n",
      "Requirement already satisfied: requests>=2.19 in /Users/dominickperini/opt/anaconda3/lib/python3.8/site-packages (from astroquery) (2.28.1)\n",
      "Requirement already satisfied: beautifulsoup4>=4.8 in /Users/dominickperini/opt/anaconda3/lib/python3.8/site-packages (from astroquery) (4.9.1)\n",
      "Requirement already satisfied: html5lib>=0.999 in /Users/dominickperini/opt/anaconda3/lib/python3.8/site-packages (from astroquery) (1.1)\n",
      "Requirement already satisfied: keyring>=15.0 in /Users/dominickperini/opt/anaconda3/lib/python3.8/site-packages (from astroquery) (21.2.1)\n",
      "Requirement already satisfied: pyvo>=1.1 in /Users/dominickperini/opt/anaconda3/lib/python3.8/site-packages (from astroquery) (1.5.3)\n",
      "Requirement already satisfied: pyerfa>=2.0 in /Users/dominickperini/opt/anaconda3/lib/python3.8/site-packages (from astropy>=4.2.1->astroquery) (2.0.0.3)\n",
      "Requirement already satisfied: PyYAML>=3.13 in /Users/dominickperini/opt/anaconda3/lib/python3.8/site-packages (from astropy>=4.2.1->astroquery) (5.3.1)\n",
      "Requirement already satisfied: packaging>=19.0 in /Users/dominickperini/opt/anaconda3/lib/python3.8/site-packages (from astropy>=4.2.1->astroquery) (20.4)\n",
      "Requirement already satisfied: soupsieve>1.2 in /Users/dominickperini/opt/anaconda3/lib/python3.8/site-packages (from beautifulsoup4>=4.8->astroquery) (2.0.1)\n",
      "Requirement already satisfied: six>=1.9 in /Users/dominickperini/opt/anaconda3/lib/python3.8/site-packages (from html5lib>=0.999->astroquery) (1.15.0)\n",
      "Requirement already satisfied: webencodings in /Users/dominickperini/opt/anaconda3/lib/python3.8/site-packages (from html5lib>=0.999->astroquery) (0.5.1)\n",
      "Requirement already satisfied: charset-normalizer<3,>=2 in /Users/dominickperini/opt/anaconda3/lib/python3.8/site-packages (from requests>=2.19->astroquery) (2.1.1)\n",
      "Requirement already satisfied: idna<4,>=2.5 in /Users/dominickperini/opt/anaconda3/lib/python3.8/site-packages (from requests>=2.19->astroquery) (2.10)\n",
      "Requirement already satisfied: urllib3<1.27,>=1.21.1 in /Users/dominickperini/opt/anaconda3/lib/python3.8/site-packages (from requests>=2.19->astroquery) (1.26.12)\n",
      "Requirement already satisfied: certifi>=2017.4.17 in /Users/dominickperini/opt/anaconda3/lib/python3.8/site-packages (from requests>=2.19->astroquery) (2020.6.20)\n",
      "Requirement already satisfied: pyparsing>=2.0.2 in /Users/dominickperini/opt/anaconda3/lib/python3.8/site-packages (from packaging>=19.0->astropy>=4.2.1->astroquery) (2.4.7)\n",
      "\u001b[33mDEPRECATION: pyodbc 4.0.0-unsupported has a non-standard version number. pip 24.1 will enforce this behaviour change. A possible replacement is to upgrade to a newer version of pyodbc or contact the author to suggest that they release a version with a conforming version number. Discussion can be found at https://github.com/pypa/pip/issues/12063\u001b[0m\u001b[33m\n",
      "\u001b[0m\n",
      "\u001b[1m[\u001b[0m\u001b[34;49mnotice\u001b[0m\u001b[1;39;49m]\u001b[0m\u001b[39;49m A new release of pip is available: \u001b[0m\u001b[31;49m24.0\u001b[0m\u001b[39;49m -> \u001b[0m\u001b[32;49m24.3.1\u001b[0m\n",
      "\u001b[1m[\u001b[0m\u001b[34;49mnotice\u001b[0m\u001b[1;39;49m]\u001b[0m\u001b[39;49m To update, run: \u001b[0m\u001b[32;49mpip install --upgrade pip\u001b[0m\n",
      "Note: you may need to restart the kernel to use updated packages.\n",
      "Requirement already satisfied: astropy in /Users/dominickperini/opt/anaconda3/lib/python3.8/site-packages (5.2.2)\n",
      "Requirement already satisfied: numpy>=1.20 in /Users/dominickperini/opt/anaconda3/lib/python3.8/site-packages (from astropy) (1.24.4)\n",
      "Requirement already satisfied: pyerfa>=2.0 in /Users/dominickperini/opt/anaconda3/lib/python3.8/site-packages (from astropy) (2.0.0.3)\n",
      "Requirement already satisfied: PyYAML>=3.13 in /Users/dominickperini/opt/anaconda3/lib/python3.8/site-packages (from astropy) (5.3.1)\n",
      "Requirement already satisfied: packaging>=19.0 in /Users/dominickperini/opt/anaconda3/lib/python3.8/site-packages (from astropy) (20.4)\n",
      "Requirement already satisfied: pyparsing>=2.0.2 in /Users/dominickperini/opt/anaconda3/lib/python3.8/site-packages (from packaging>=19.0->astropy) (2.4.7)\n",
      "Requirement already satisfied: six in /Users/dominickperini/opt/anaconda3/lib/python3.8/site-packages (from packaging>=19.0->astropy) (1.15.0)\n",
      "\u001b[33mDEPRECATION: pyodbc 4.0.0-unsupported has a non-standard version number. pip 24.1 will enforce this behaviour change. A possible replacement is to upgrade to a newer version of pyodbc or contact the author to suggest that they release a version with a conforming version number. Discussion can be found at https://github.com/pypa/pip/issues/12063\u001b[0m\u001b[33m\n",
      "\u001b[0m\n",
      "\u001b[1m[\u001b[0m\u001b[34;49mnotice\u001b[0m\u001b[1;39;49m]\u001b[0m\u001b[39;49m A new release of pip is available: \u001b[0m\u001b[31;49m24.0\u001b[0m\u001b[39;49m -> \u001b[0m\u001b[32;49m24.3.1\u001b[0m\n",
      "\u001b[1m[\u001b[0m\u001b[34;49mnotice\u001b[0m\u001b[1;39;49m]\u001b[0m\u001b[39;49m To update, run: \u001b[0m\u001b[32;49mpip install --upgrade pip\u001b[0m\n",
      "Note: you may need to restart the kernel to use updated packages.\n"
     ]
    }
   ],
   "source": [
    "%pip install --upgrade astroquery\n",
    "%pip install --upgrade astropy"
   ]
  },
  {
   "cell_type": "code",
   "execution_count": null,
   "metadata": {},
   "outputs": [],
   "source": [
    "import astroquery"
   ]
  },
  {
   "cell_type": "code",
   "execution_count": 1,
   "metadata": {},
   "outputs": [],
   "source": [
    "from astroquery.simbad import Simbad"
   ]
  },
  {
   "cell_type": "code",
   "execution_count": 2,
   "metadata": {},
   "outputs": [
    {
     "name": "stdout",
     "output_type": "stream",
     "text": [
      "Downloading URL https://mast.stsci.edu/api/v0.1/Download/file?uri=mast:HLSP/fresco/goods_n/hlsp_fresco_hst_acs-wfc_goods-n_f435w_v1.0_sci.fits to ./mastDownload/HLSP/hlsp_fresco_hst_acs-wfc_goods-n_f435w_v1.0_sci/hlsp_fresco_hst_acs-wfc_goods-n_f435w_v1.0_sci.fits ... [Done]\n",
      "Downloading URL https://mast.stsci.edu/api/v0.1/Download/file?uri=mast:HLSP/fresco/goods_n/hlsp_fresco_hst_acs-wfc_goods-n_f435w_v1.0_wht.fits to ./mastDownload/HLSP/hlsp_fresco_hst_acs-wfc_goods-n_f435w_v1.0_sci/hlsp_fresco_hst_acs-wfc_goods-n_f435w_v1.0_wht.fits ... [Done]\n",
      "Downloading URL https://mast.stsci.edu/api/v0.1/Download/file?uri=mast:HLSP/fresco/goods_n/hlsp_fresco_hst_acs-wfc_goods-n_f606w_v1.0_sci.fits to ./mastDownload/HLSP/hlsp_fresco_hst_acs-wfc_goods-n_f606w_v1.0_sci/hlsp_fresco_hst_acs-wfc_goods-n_f606w_v1.0_sci.fits ... [Done]\n",
      "Downloading URL https://mast.stsci.edu/api/v0.1/Download/file?uri=mast:HLSP/fresco/goods_n/hlsp_fresco_hst_acs-wfc_goods-n_f606w_v1.0_wht.fits to ./mastDownload/HLSP/hlsp_fresco_hst_acs-wfc_goods-n_f606w_v1.0_sci/hlsp_fresco_hst_acs-wfc_goods-n_f606w_v1.0_wht.fits ... [Done]\n",
      "Downloading URL https://mast.stsci.edu/api/v0.1/Download/file?uri=mast:HLSP/fresco/goods_n/hlsp_fresco_hst_acs-wfc_goods-n_f775w_v1.0_sci.fits to ./mastDownload/HLSP/hlsp_fresco_hst_acs-wfc_goods-n_f775w_v1.0_sci/hlsp_fresco_hst_acs-wfc_goods-n_f775w_v1.0_sci.fits ... [Done]\n",
      "Downloading URL https://mast.stsci.edu/api/v0.1/Download/file?uri=mast:HLSP/fresco/goods_n/hlsp_fresco_hst_acs-wfc_goods-n_f775w_v1.0_wht.fits to ./mastDownload/HLSP/hlsp_fresco_hst_acs-wfc_goods-n_f775w_v1.0_sci/hlsp_fresco_hst_acs-wfc_goods-n_f775w_v1.0_wht.fits ... [Done]\n",
      "Downloading URL https://mast.stsci.edu/api/v0.1/Download/file?uri=mast:HLSP/fresco/goods_n/hlsp_fresco_hst_acs-wfc_goods-n_f814w_v1.0_sci.fits to ./mastDownload/HLSP/hlsp_fresco_hst_acs-wfc_goods-n_f814w_v1.0_sci/hlsp_fresco_hst_acs-wfc_goods-n_f814w_v1.0_sci.fits ... [Done]\n",
      "Downloading URL https://mast.stsci.edu/api/v0.1/Download/file?uri=mast:HLSP/fresco/goods_n/hlsp_fresco_hst_acs-wfc_goods-n_f814w_v1.0_wht.fits to ./mastDownload/HLSP/hlsp_fresco_hst_acs-wfc_goods-n_f814w_v1.0_sci/hlsp_fresco_hst_acs-wfc_goods-n_f814w_v1.0_wht.fits ... [Done]\n",
      "Downloading URL https://mast.stsci.edu/api/v0.1/Download/file?uri=mast:HLSP/fresco/goods_n/hlsp_fresco_hst_acs-wfc_goods-n_f850lp_v1.0_sci.fits to ./mastDownload/HLSP/hlsp_fresco_hst_acs-wfc_goods-n_f850lp_v1.0_sci/hlsp_fresco_hst_acs-wfc_goods-n_f850lp_v1.0_sci.fits ... [Done]\n",
      "Downloading URL https://mast.stsci.edu/api/v0.1/Download/file?uri=mast:HLSP/fresco/goods_n/hlsp_fresco_hst_acs-wfc_goods-n_f850lp_v1.0_wht.fits to ./mastDownload/HLSP/hlsp_fresco_hst_acs-wfc_goods-n_f850lp_v1.0_sci/hlsp_fresco_hst_acs-wfc_goods-n_f850lp_v1.0_wht.fits ... [Done]\n",
      "Downloading URL https://mast.stsci.edu/api/v0.1/Download/file?uri=mast:HLSP/fresco/goods_n/hlsp_fresco_hst_wfc3-ir_goods-n_f105w_v1.0_sci.fits to ./mastDownload/HLSP/hlsp_fresco_hst_wfc3-ir_goods-n_f105w_v1.0_sci/hlsp_fresco_hst_wfc3-ir_goods-n_f105w_v1.0_sci.fits ... [Done]\n",
      "Downloading URL https://mast.stsci.edu/api/v0.1/Download/file?uri=mast:HLSP/fresco/goods_n/hlsp_fresco_hst_wfc3-ir_goods-n_f105w_v1.0_wht.fits to ./mastDownload/HLSP/hlsp_fresco_hst_wfc3-ir_goods-n_f105w_v1.0_sci/hlsp_fresco_hst_wfc3-ir_goods-n_f105w_v1.0_wht.fits ... [Done]\n",
      "Downloading URL https://mast.stsci.edu/api/v0.1/Download/file?uri=mast:HLSP/fresco/goods_n/hlsp_fresco_hst_wfc3-ir_goods-n_f110w_v1.0_sci.fits to ./mastDownload/HLSP/hlsp_fresco_hst_wfc3-ir_goods-n_f110w_v1.0_sci/hlsp_fresco_hst_wfc3-ir_goods-n_f110w_v1.0_sci.fits ... [Done]\n",
      "Downloading URL https://mast.stsci.edu/api/v0.1/Download/file?uri=mast:HLSP/fresco/goods_n/hlsp_fresco_hst_wfc3-ir_goods-n_f110w_v1.0_wht.fits to ./mastDownload/HLSP/hlsp_fresco_hst_wfc3-ir_goods-n_f110w_v1.0_sci/hlsp_fresco_hst_wfc3-ir_goods-n_f110w_v1.0_wht.fits ... [Done]\n",
      "Downloading URL https://mast.stsci.edu/api/v0.1/Download/file?uri=mast:HLSP/fresco/goods_n/hlsp_fresco_hst_wfc3-ir_goods-n_f125w_v1.0_sci.fits to ./mastDownload/HLSP/hlsp_fresco_hst_wfc3-ir_goods-n_f125w_v1.0_sci/hlsp_fresco_hst_wfc3-ir_goods-n_f125w_v1.0_sci.fits ... [Done]\n",
      "Downloading URL https://mast.stsci.edu/api/v0.1/Download/file?uri=mast:HLSP/fresco/goods_n/hlsp_fresco_hst_wfc3-ir_goods-n_f125w_v1.0_wht.fits to ./mastDownload/HLSP/hlsp_fresco_hst_wfc3-ir_goods-n_f125w_v1.0_sci/hlsp_fresco_hst_wfc3-ir_goods-n_f125w_v1.0_wht.fits ... [Done]\n",
      "Downloading URL https://mast.stsci.edu/api/v0.1/Download/file?uri=mast:HLSP/fresco/goods_n/hlsp_fresco_hst_wfc3-ir_goods-n_f140w_v1.0_sci.fits to ./mastDownload/HLSP/hlsp_fresco_hst_wfc3-ir_goods-n_f140w_v1.0_sci/hlsp_fresco_hst_wfc3-ir_goods-n_f140w_v1.0_sci.fits ... [Done]\n",
      "Downloading URL https://mast.stsci.edu/api/v0.1/Download/file?uri=mast:HLSP/fresco/goods_n/hlsp_fresco_hst_wfc3-ir_goods-n_f140w_v1.0_wht.fits to ./mastDownload/HLSP/hlsp_fresco_hst_wfc3-ir_goods-n_f140w_v1.0_sci/hlsp_fresco_hst_wfc3-ir_goods-n_f140w_v1.0_wht.fits ... [Done]\n",
      "Downloading URL https://mast.stsci.edu/api/v0.1/Download/file?uri=mast:HLSP/fresco/goods_n/hlsp_fresco_hst_wfc3-ir_goods-n_f160w_v1.0_sci.fits to ./mastDownload/HLSP/hlsp_fresco_hst_wfc3-ir_goods-n_f160w_v1.0_sci/hlsp_fresco_hst_wfc3-ir_goods-n_f160w_v1.0_sci.fits ... [Done]\n",
      "Downloading URL https://mast.stsci.edu/api/v0.1/Download/file?uri=mast:HLSP/fresco/goods_n/hlsp_fresco_hst_wfc3-ir_goods-n_f160w_v1.0_wht.fits to ./mastDownload/HLSP/hlsp_fresco_hst_wfc3-ir_goods-n_f160w_v1.0_sci/hlsp_fresco_hst_wfc3-ir_goods-n_f160w_v1.0_wht.fits ... [Done]\n",
      "Downloading URL https://mast.stsci.edu/api/v0.1/Download/file?uri=mast:HLSP/fresco/goods_n/hlsp_fresco_hst_wfc3-uvis_goods-n_f275w_v1.0_sci.fits to ./mastDownload/HLSP/hlsp_fresco_hst_wfc3-uvis_goods-n_f275w_v1.0_sci/hlsp_fresco_hst_wfc3-uvis_goods-n_f275w_v1.0_sci.fits ... [Done]\n",
      "Downloading URL https://mast.stsci.edu/api/v0.1/Download/file?uri=mast:HLSP/fresco/goods_n/hlsp_fresco_hst_wfc3-uvis_goods-n_f275w_v1.0_wht.fits to ./mastDownload/HLSP/hlsp_fresco_hst_wfc3-uvis_goods-n_f275w_v1.0_sci/hlsp_fresco_hst_wfc3-uvis_goods-n_f275w_v1.0_wht.fits ... [Done]\n",
      "Downloading URL https://mast.stsci.edu/api/v0.1/Download/file?uri=mast:HLSP/fresco/goods_n/hlsp_fresco_hst_wfc3-uvis_goods-n_f336w_v1.0_sci.fits to ./mastDownload/HLSP/hlsp_fresco_hst_wfc3-uvis_goods-n_f336w_v1.0_sci/hlsp_fresco_hst_wfc3-uvis_goods-n_f336w_v1.0_sci.fits ... [Done]\n",
      "Downloading URL https://mast.stsci.edu/api/v0.1/Download/file?uri=mast:HLSP/fresco/goods_n/hlsp_fresco_hst_wfc3-uvis_goods-n_f336w_v1.0_wht.fits to ./mastDownload/HLSP/hlsp_fresco_hst_wfc3-uvis_goods-n_f336w_v1.0_sci/hlsp_fresco_hst_wfc3-uvis_goods-n_f336w_v1.0_wht.fits ... [Done]\n",
      "Downloading URL https://mast.stsci.edu/api/v0.1/Download/file?uri=mast:HLSP/fresco/goods_n/hlsp_fresco_hst_wfc3-uvis_goods-n_f350lp_v1.0_sci.fits to ./mastDownload/HLSP/hlsp_fresco_hst_wfc3-uvis_goods-n_f350lp_v1.0_sci/hlsp_fresco_hst_wfc3-uvis_goods-n_f350lp_v1.0_sci.fits ... [Done]\n",
      "Downloading URL https://mast.stsci.edu/api/v0.1/Download/file?uri=mast:HLSP/fresco/goods_n/hlsp_fresco_hst_wfc3-uvis_goods-n_f350lp_v1.0_wht.fits to ./mastDownload/HLSP/hlsp_fresco_hst_wfc3-uvis_goods-n_f350lp_v1.0_sci/hlsp_fresco_hst_wfc3-uvis_goods-n_f350lp_v1.0_wht.fits ... [Done]\n",
      "Downloading URL https://mast.stsci.edu/api/v0.1/Download/file?uri=mast:HLSP/fresco/goods_n/hlsp_fresco_hst_wfc3-uvis_goods-n_f850lp_v1.0_sci.fits to ./mastDownload/HLSP/hlsp_fresco_hst_wfc3-uvis_goods-n_f850lp_v1.0_sci/hlsp_fresco_hst_wfc3-uvis_goods-n_f850lp_v1.0_sci.fits ... [Done]\n",
      "Downloading URL https://mast.stsci.edu/api/v0.1/Download/file?uri=mast:HLSP/fresco/goods_n/hlsp_fresco_hst_wfc3-uvis_goods-n_f850lp_v1.0_wht.fits to ./mastDownload/HLSP/hlsp_fresco_hst_wfc3-uvis_goods-n_f850lp_v1.0_sci/hlsp_fresco_hst_wfc3-uvis_goods-n_f850lp_v1.0_wht.fits ... [Done]\n",
      "Downloading URL https://mast.stsci.edu/api/v0.1/Download/file?uri=mast:HLSP/fresco/goods_n/hlsp_fresco_jwst_nircam_goods-n_f182m_v1.0_sci.fits to ./mastDownload/HLSP/hlsp_fresco_jwst_nircam_goods-n_f182m_v1.0_sci/hlsp_fresco_jwst_nircam_goods-n_f182m_v1.0_sci.fits ... [Done]\n"
     ]
    },
    {
     "name": "stdout",
     "output_type": "stream",
     "text": [
      "Downloading URL https://mast.stsci.edu/api/v0.1/Download/file?uri=mast:HLSP/fresco/goods_n/hlsp_fresco_jwst_nircam_goods-n_f182m_v1.0_wht.fits to ./mastDownload/HLSP/hlsp_fresco_jwst_nircam_goods-n_f182m_v1.0_sci/hlsp_fresco_jwst_nircam_goods-n_f182m_v1.0_wht.fits ... [Done]\n",
      "Downloading URL https://mast.stsci.edu/api/v0.1/Download/file?uri=mast:HLSP/fresco/goods_n/hlsp_fresco_jwst_nircam_goods-n_f210m_v1.0_sci.fits to ./mastDownload/HLSP/hlsp_fresco_jwst_nircam_goods-n_f210m_v1.0_sci/hlsp_fresco_jwst_nircam_goods-n_f210m_v1.0_sci.fits ... [Done]\n",
      "Downloading URL https://mast.stsci.edu/api/v0.1/Download/file?uri=mast:HLSP/fresco/goods_n/hlsp_fresco_jwst_nircam_goods-n_f210m_v1.0_wht.fits to ./mastDownload/HLSP/hlsp_fresco_jwst_nircam_goods-n_f210m_v1.0_sci/hlsp_fresco_jwst_nircam_goods-n_f210m_v1.0_wht.fits ... [Done]\n",
      "Downloading URL https://mast.stsci.edu/api/v0.1/Download/file?uri=mast:HLSP/fresco/goods_n/hlsp_fresco_jwst_nircam_goods-n_f444w_v1.0_sci.fits to ./mastDownload/HLSP/hlsp_fresco_jwst_nircam_goods-n_f444w_v1.0_sci/hlsp_fresco_jwst_nircam_goods-n_f444w_v1.0_sci.fits ... [Done]\n",
      "Downloading URL https://mast.stsci.edu/api/v0.1/Download/file?uri=mast:HLSP/fresco/goods_n/hlsp_fresco_jwst_nircam_goods-n_f444w_v1.0_wht.fits to ./mastDownload/HLSP/hlsp_fresco_jwst_nircam_goods-n_f444w_v1.0_sci/hlsp_fresco_jwst_nircam_goods-n_f444w_v1.0_wht.fits ... [Done]\n",
      "Downloading URL https://mast.stsci.edu/api/v0.1/Download/file?uri=mast:HLSP/fresco/goods_s/hlsp_fresco_hst_acs-wfc_goods-s_f435w_v1.0_sci.fits to ./mastDownload/HLSP/hlsp_fresco_hst_acs-wfc_goods-s_f435w_v1.0_sci/hlsp_fresco_hst_acs-wfc_goods-s_f435w_v1.0_sci.fits ... [Done]\n",
      "Downloading URL https://mast.stsci.edu/api/v0.1/Download/file?uri=mast:HLSP/fresco/goods_s/hlsp_fresco_hst_acs-wfc_goods-s_f435w_v1.0_wht.fits to ./mastDownload/HLSP/hlsp_fresco_hst_acs-wfc_goods-s_f435w_v1.0_sci/hlsp_fresco_hst_acs-wfc_goods-s_f435w_v1.0_wht.fits ... [Done]\n",
      "Downloading URL https://mast.stsci.edu/api/v0.1/Download/file?uri=mast:HLSP/fresco/goods_s/hlsp_fresco_hst_acs-wfc_goods-s_f475w_v1.0_sci.fits to ./mastDownload/HLSP/hlsp_fresco_hst_acs-wfc_goods-s_f475w_v1.0_sci/hlsp_fresco_hst_acs-wfc_goods-s_f475w_v1.0_sci.fits ... [Done]\n",
      "Downloading URL https://mast.stsci.edu/api/v0.1/Download/file?uri=mast:HLSP/fresco/goods_s/hlsp_fresco_hst_acs-wfc_goods-s_f475w_v1.0_wht.fits to ./mastDownload/HLSP/hlsp_fresco_hst_acs-wfc_goods-s_f475w_v1.0_sci/hlsp_fresco_hst_acs-wfc_goods-s_f475w_v1.0_wht.fits ... [Done]\n",
      "Downloading URL https://mast.stsci.edu/api/v0.1/Download/file?uri=mast:HLSP/fresco/goods_s/hlsp_fresco_hst_acs-wfc_goods-s_f606w_v1.0_sci.fits to ./mastDownload/HLSP/hlsp_fresco_hst_acs-wfc_goods-s_f606w_v1.0_sci/hlsp_fresco_hst_acs-wfc_goods-s_f606w_v1.0_sci.fits ... [Done]\n",
      "Downloading URL https://mast.stsci.edu/api/v0.1/Download/file?uri=mast:HLSP/fresco/goods_s/hlsp_fresco_hst_acs-wfc_goods-s_f606w_v1.0_wht.fits to ./mastDownload/HLSP/hlsp_fresco_hst_acs-wfc_goods-s_f606w_v1.0_sci/hlsp_fresco_hst_acs-wfc_goods-s_f606w_v1.0_wht.fits ... [Done]\n",
      "Downloading URL https://mast.stsci.edu/api/v0.1/Download/file?uri=mast:HLSP/fresco/goods_s/hlsp_fresco_hst_acs-wfc_goods-s_f775w_v1.0_sci.fits to ./mastDownload/HLSP/hlsp_fresco_hst_acs-wfc_goods-s_f775w_v1.0_sci/hlsp_fresco_hst_acs-wfc_goods-s_f775w_v1.0_sci.fits ... [Done]\n",
      "Downloading URL https://mast.stsci.edu/api/v0.1/Download/file?uri=mast:HLSP/fresco/goods_s/hlsp_fresco_hst_acs-wfc_goods-s_f775w_v1.0_wht.fits to ./mastDownload/HLSP/hlsp_fresco_hst_acs-wfc_goods-s_f775w_v1.0_sci/hlsp_fresco_hst_acs-wfc_goods-s_f775w_v1.0_wht.fits ... [Done]\n",
      "Downloading URL https://mast.stsci.edu/api/v0.1/Download/file?uri=mast:HLSP/fresco/goods_s/hlsp_fresco_hst_acs-wfc_goods-s_f814w_v1.0_sci.fits to ./mastDownload/HLSP/hlsp_fresco_hst_acs-wfc_goods-s_f814w_v1.0_sci/hlsp_fresco_hst_acs-wfc_goods-s_f814w_v1.0_sci.fits ... [Done]\n",
      "Downloading URL https://mast.stsci.edu/api/v0.1/Download/file?uri=mast:HLSP/fresco/goods_s/hlsp_fresco_hst_acs-wfc_goods-s_f814w_v1.0_wht.fits to ./mastDownload/HLSP/hlsp_fresco_hst_acs-wfc_goods-s_f814w_v1.0_sci/hlsp_fresco_hst_acs-wfc_goods-s_f814w_v1.0_wht.fits ... [Done]\n",
      "Downloading URL https://mast.stsci.edu/api/v0.1/Download/file?uri=mast:HLSP/fresco/goods_s/hlsp_fresco_hst_acs-wfc_goods-s_f850lp_v1.0_sci.fits to ./mastDownload/HLSP/hlsp_fresco_hst_acs-wfc_goods-s_f850lp_v1.0_sci/hlsp_fresco_hst_acs-wfc_goods-s_f850lp_v1.0_sci.fits ... [Done]\n",
      "Downloading URL https://mast.stsci.edu/api/v0.1/Download/file?uri=mast:HLSP/fresco/goods_s/hlsp_fresco_hst_acs-wfc_goods-s_f850lp_v1.0_wht.fits to ./mastDownload/HLSP/hlsp_fresco_hst_acs-wfc_goods-s_f850lp_v1.0_sci/hlsp_fresco_hst_acs-wfc_goods-s_f850lp_v1.0_wht.fits ... [Done]\n",
      "Downloading URL https://mast.stsci.edu/api/v0.1/Download/file?uri=mast:HLSP/fresco/goods_s/hlsp_fresco_hst_wfc3-ir_goods-s_f105w_v1.0_sci.fits to ./mastDownload/HLSP/hlsp_fresco_hst_wfc3-ir_goods-s_f105w_v1.0_sci/hlsp_fresco_hst_wfc3-ir_goods-s_f105w_v1.0_sci.fits ... [Done]\n",
      "Downloading URL https://mast.stsci.edu/api/v0.1/Download/file?uri=mast:HLSP/fresco/goods_s/hlsp_fresco_hst_wfc3-ir_goods-s_f105w_v1.0_wht.fits to ./mastDownload/HLSP/hlsp_fresco_hst_wfc3-ir_goods-s_f105w_v1.0_sci/hlsp_fresco_hst_wfc3-ir_goods-s_f105w_v1.0_wht.fits ... [Done]\n",
      "Downloading URL https://mast.stsci.edu/api/v0.1/Download/file?uri=mast:HLSP/fresco/goods_s/hlsp_fresco_hst_wfc3-ir_goods-s_f110w_v1.0_sci.fits to ./mastDownload/HLSP/hlsp_fresco_hst_wfc3-ir_goods-s_f110w_v1.0_sci/hlsp_fresco_hst_wfc3-ir_goods-s_f110w_v1.0_sci.fits ... [Done]\n",
      "Downloading URL https://mast.stsci.edu/api/v0.1/Download/file?uri=mast:HLSP/fresco/goods_s/hlsp_fresco_hst_wfc3-ir_goods-s_f110w_v1.0_wht.fits to ./mastDownload/HLSP/hlsp_fresco_hst_wfc3-ir_goods-s_f110w_v1.0_sci/hlsp_fresco_hst_wfc3-ir_goods-s_f110w_v1.0_wht.fits ... [Done]\n",
      "Downloading URL https://mast.stsci.edu/api/v0.1/Download/file?uri=mast:HLSP/fresco/goods_s/hlsp_fresco_hst_wfc3-ir_goods-s_f125w_v1.0_sci.fits to ./mastDownload/HLSP/hlsp_fresco_hst_wfc3-ir_goods-s_f125w_v1.0_sci/hlsp_fresco_hst_wfc3-ir_goods-s_f125w_v1.0_sci.fits ... [Done]\n",
      "Downloading URL https://mast.stsci.edu/api/v0.1/Download/file?uri=mast:HLSP/fresco/goods_s/hlsp_fresco_hst_wfc3-ir_goods-s_f125w_v1.0_wht.fits to ./mastDownload/HLSP/hlsp_fresco_hst_wfc3-ir_goods-s_f125w_v1.0_sci/hlsp_fresco_hst_wfc3-ir_goods-s_f125w_v1.0_wht.fits ... [Done]\n",
      "Downloading URL https://mast.stsci.edu/api/v0.1/Download/file?uri=mast:HLSP/fresco/goods_s/hlsp_fresco_hst_wfc3-ir_goods-s_f140w_v1.0_sci.fits to ./mastDownload/HLSP/hlsp_fresco_hst_wfc3-ir_goods-s_f140w_v1.0_sci/hlsp_fresco_hst_wfc3-ir_goods-s_f140w_v1.0_sci.fits ... [Done]\n",
      "Downloading URL https://mast.stsci.edu/api/v0.1/Download/file?uri=mast:HLSP/fresco/goods_s/hlsp_fresco_hst_wfc3-ir_goods-s_f140w_v1.0_wht.fits to ./mastDownload/HLSP/hlsp_fresco_hst_wfc3-ir_goods-s_f140w_v1.0_sci/hlsp_fresco_hst_wfc3-ir_goods-s_f140w_v1.0_wht.fits ... [Done]\n",
      "Downloading URL https://mast.stsci.edu/api/v0.1/Download/file?uri=mast:HLSP/fresco/goods_s/hlsp_fresco_hst_wfc3-ir_goods-s_f160w_v1.0_sci.fits to ./mastDownload/HLSP/hlsp_fresco_hst_wfc3-ir_goods-s_f160w_v1.0_sci/hlsp_fresco_hst_wfc3-ir_goods-s_f160w_v1.0_sci.fits ... [Failed]\n"
     ]
    },
    {
     "ename": "KeyboardInterrupt",
     "evalue": "",
     "output_type": "error",
     "traceback": [
      "\u001b[0;31m---------------------------------------------------------------------------\u001b[0m",
      "\u001b[0;31mKeyboardInterrupt\u001b[0m                         Traceback (most recent call last)",
      "\u001b[0;32m<ipython-input-2-bfe9a4b29d99>\u001b[0m in \u001b[0;36m<module>\u001b[0;34m\u001b[0m\n\u001b[1;32m      2\u001b[0m \u001b[0mall_obs\u001b[0m \u001b[0;34m=\u001b[0m \u001b[0mObservations\u001b[0m\u001b[0;34m.\u001b[0m\u001b[0mquery_criteria\u001b[0m\u001b[0;34m(\u001b[0m\u001b[0mprovenance_name\u001b[0m\u001b[0;34m=\u001b[0m\u001b[0;34m\"FRESCO\"\u001b[0m\u001b[0;34m)\u001b[0m\u001b[0;34m\u001b[0m\u001b[0;34m\u001b[0m\u001b[0m\n\u001b[1;32m      3\u001b[0m \u001b[0mdata_products\u001b[0m \u001b[0;34m=\u001b[0m \u001b[0mObservations\u001b[0m\u001b[0;34m.\u001b[0m\u001b[0mget_product_list\u001b[0m\u001b[0;34m(\u001b[0m\u001b[0mall_obs\u001b[0m\u001b[0;34m)\u001b[0m\u001b[0;34m\u001b[0m\u001b[0;34m\u001b[0m\u001b[0m\n\u001b[0;32m----> 4\u001b[0;31m \u001b[0mObservations\u001b[0m\u001b[0;34m.\u001b[0m\u001b[0mdownload_products\u001b[0m\u001b[0;34m(\u001b[0m\u001b[0mdata_products\u001b[0m\u001b[0;34m)\u001b[0m\u001b[0;34m\u001b[0m\u001b[0;34m\u001b[0m\u001b[0m\n\u001b[0m",
      "\u001b[0;32m~/opt/anaconda3/lib/python3.8/site-packages/astroquery/mast/observations.py\u001b[0m in \u001b[0;36mdownload_products\u001b[0;34m(self, products, download_dir, flat, cache, curl_flag, mrp_only, cloud_only, **filters)\u001b[0m\n\u001b[1;32m    749\u001b[0m             \u001b[0;32melse\u001b[0m\u001b[0;34m:\u001b[0m\u001b[0;34m\u001b[0m\u001b[0;34m\u001b[0m\u001b[0m\n\u001b[1;32m    750\u001b[0m                 \u001b[0mbase_dir\u001b[0m \u001b[0;34m=\u001b[0m \u001b[0mos\u001b[0m\u001b[0;34m.\u001b[0m\u001b[0mpath\u001b[0m\u001b[0;34m.\u001b[0m\u001b[0mjoin\u001b[0m\u001b[0;34m(\u001b[0m\u001b[0mdownload_dir\u001b[0m\u001b[0;34m,\u001b[0m \u001b[0;34m\"mastDownload\"\u001b[0m\u001b[0;34m)\u001b[0m\u001b[0;34m\u001b[0m\u001b[0;34m\u001b[0m\u001b[0m\n\u001b[0;32m--> 751\u001b[0;31m             manifest = self._download_files(products,\n\u001b[0m\u001b[1;32m    752\u001b[0m                                             \u001b[0mbase_dir\u001b[0m\u001b[0;34m=\u001b[0m\u001b[0mbase_dir\u001b[0m\u001b[0;34m,\u001b[0m \u001b[0mflat\u001b[0m\u001b[0;34m=\u001b[0m\u001b[0mflat\u001b[0m\u001b[0;34m,\u001b[0m\u001b[0;34m\u001b[0m\u001b[0;34m\u001b[0m\u001b[0m\n\u001b[1;32m    753\u001b[0m                                             \u001b[0mcache\u001b[0m\u001b[0;34m=\u001b[0m\u001b[0mcache\u001b[0m\u001b[0;34m,\u001b[0m\u001b[0;34m\u001b[0m\u001b[0;34m\u001b[0m\u001b[0m\n",
      "\u001b[0;32m~/opt/anaconda3/lib/python3.8/site-packages/astroquery/mast/observations.py\u001b[0m in \u001b[0;36m_download_files\u001b[0;34m(self, products, base_dir, flat, cache, cloud_only)\u001b[0m\n\u001b[1;32m    615\u001b[0m \u001b[0;34m\u001b[0m\u001b[0m\n\u001b[1;32m    616\u001b[0m             \u001b[0;31m# download the files\u001b[0m\u001b[0;34m\u001b[0m\u001b[0;34m\u001b[0m\u001b[0;34m\u001b[0m\u001b[0m\n\u001b[0;32m--> 617\u001b[0;31m             status, msg, url = self.download_file(data_product[\"dataURI\"], local_path=local_path,\n\u001b[0m\u001b[1;32m    618\u001b[0m                                                   cache=cache, cloud_only=cloud_only)\n\u001b[1;32m    619\u001b[0m \u001b[0;34m\u001b[0m\u001b[0m\n",
      "\u001b[0;32m~/opt/anaconda3/lib/python3.8/site-packages/astroquery/mast/observations.py\u001b[0m in \u001b[0;36mdownload_file\u001b[0;34m(self, uri, local_path, base_url, cache, cloud_only)\u001b[0m\n\u001b[1;32m    560\u001b[0m                                             cache=cache, head_safe=True, continuation=False)\n\u001b[1;32m    561\u001b[0m             \u001b[0;32melse\u001b[0m\u001b[0;34m:\u001b[0m\u001b[0;34m\u001b[0m\u001b[0;34m\u001b[0m\u001b[0m\n\u001b[0;32m--> 562\u001b[0;31m                 self._download_file(data_url, local_path,\n\u001b[0m\u001b[1;32m    563\u001b[0m                                     cache=cache, head_safe=True, continuation=False)\n\u001b[1;32m    564\u001b[0m \u001b[0;34m\u001b[0m\u001b[0m\n",
      "\u001b[0;32m~/opt/anaconda3/lib/python3.8/site-packages/astroquery/query.py\u001b[0m in \u001b[0;36m_download_file\u001b[0;34m(self, url, local_filepath, timeout, auth, continuation, cache, method, head_safe, **kwargs)\u001b[0m\n\u001b[1;32m    496\u001b[0m                                   file=progress_stream) as pb:\n\u001b[1;32m    497\u001b[0m             \u001b[0;32mwith\u001b[0m \u001b[0mopen\u001b[0m\u001b[0;34m(\u001b[0m\u001b[0mlocal_filepath\u001b[0m\u001b[0;34m,\u001b[0m \u001b[0mopen_mode\u001b[0m\u001b[0;34m)\u001b[0m \u001b[0;32mas\u001b[0m \u001b[0mf\u001b[0m\u001b[0;34m:\u001b[0m\u001b[0;34m\u001b[0m\u001b[0;34m\u001b[0m\u001b[0m\n\u001b[0;32m--> 498\u001b[0;31m                 \u001b[0;32mfor\u001b[0m \u001b[0mblock\u001b[0m \u001b[0;32min\u001b[0m \u001b[0mresponse\u001b[0m\u001b[0;34m.\u001b[0m\u001b[0miter_content\u001b[0m\u001b[0;34m(\u001b[0m\u001b[0mblocksize\u001b[0m\u001b[0;34m)\u001b[0m\u001b[0;34m:\u001b[0m\u001b[0;34m\u001b[0m\u001b[0;34m\u001b[0m\u001b[0m\n\u001b[0m\u001b[1;32m    499\u001b[0m                     \u001b[0mf\u001b[0m\u001b[0;34m.\u001b[0m\u001b[0mwrite\u001b[0m\u001b[0;34m(\u001b[0m\u001b[0mblock\u001b[0m\u001b[0;34m)\u001b[0m\u001b[0;34m\u001b[0m\u001b[0;34m\u001b[0m\u001b[0m\n\u001b[1;32m    500\u001b[0m                     \u001b[0mbytes_read\u001b[0m \u001b[0;34m+=\u001b[0m \u001b[0mlen\u001b[0m\u001b[0;34m(\u001b[0m\u001b[0mblock\u001b[0m\u001b[0;34m)\u001b[0m\u001b[0;34m\u001b[0m\u001b[0;34m\u001b[0m\u001b[0m\n",
      "\u001b[0;32m~/opt/anaconda3/lib/python3.8/site-packages/requests/models.py\u001b[0m in \u001b[0;36mgenerate\u001b[0;34m()\u001b[0m\n\u001b[1;32m    814\u001b[0m             \u001b[0;32mif\u001b[0m \u001b[0mhasattr\u001b[0m\u001b[0;34m(\u001b[0m\u001b[0mself\u001b[0m\u001b[0;34m.\u001b[0m\u001b[0mraw\u001b[0m\u001b[0;34m,\u001b[0m \u001b[0;34m\"stream\"\u001b[0m\u001b[0;34m)\u001b[0m\u001b[0;34m:\u001b[0m\u001b[0;34m\u001b[0m\u001b[0;34m\u001b[0m\u001b[0m\n\u001b[1;32m    815\u001b[0m                 \u001b[0;32mtry\u001b[0m\u001b[0;34m:\u001b[0m\u001b[0;34m\u001b[0m\u001b[0;34m\u001b[0m\u001b[0m\n\u001b[0;32m--> 816\u001b[0;31m                     \u001b[0;32myield\u001b[0m \u001b[0;32mfrom\u001b[0m \u001b[0mself\u001b[0m\u001b[0;34m.\u001b[0m\u001b[0mraw\u001b[0m\u001b[0;34m.\u001b[0m\u001b[0mstream\u001b[0m\u001b[0;34m(\u001b[0m\u001b[0mchunk_size\u001b[0m\u001b[0;34m,\u001b[0m \u001b[0mdecode_content\u001b[0m\u001b[0;34m=\u001b[0m\u001b[0;32mTrue\u001b[0m\u001b[0;34m)\u001b[0m\u001b[0;34m\u001b[0m\u001b[0;34m\u001b[0m\u001b[0m\n\u001b[0m\u001b[1;32m    817\u001b[0m                 \u001b[0;32mexcept\u001b[0m \u001b[0mProtocolError\u001b[0m \u001b[0;32mas\u001b[0m \u001b[0me\u001b[0m\u001b[0;34m:\u001b[0m\u001b[0;34m\u001b[0m\u001b[0;34m\u001b[0m\u001b[0m\n\u001b[1;32m    818\u001b[0m                     \u001b[0;32mraise\u001b[0m \u001b[0mChunkedEncodingError\u001b[0m\u001b[0;34m(\u001b[0m\u001b[0me\u001b[0m\u001b[0;34m)\u001b[0m\u001b[0;34m\u001b[0m\u001b[0;34m\u001b[0m\u001b[0m\n",
      "\u001b[0;32m~/opt/anaconda3/lib/python3.8/site-packages/urllib3/response.py\u001b[0m in \u001b[0;36mstream\u001b[0;34m(self, amt, decode_content)\u001b[0m\n\u001b[1;32m    625\u001b[0m         \u001b[0;32melse\u001b[0m\u001b[0;34m:\u001b[0m\u001b[0;34m\u001b[0m\u001b[0;34m\u001b[0m\u001b[0m\n\u001b[1;32m    626\u001b[0m             \u001b[0;32mwhile\u001b[0m \u001b[0;32mnot\u001b[0m \u001b[0mis_fp_closed\u001b[0m\u001b[0;34m(\u001b[0m\u001b[0mself\u001b[0m\u001b[0;34m.\u001b[0m\u001b[0m_fp\u001b[0m\u001b[0;34m)\u001b[0m\u001b[0;34m:\u001b[0m\u001b[0;34m\u001b[0m\u001b[0;34m\u001b[0m\u001b[0m\n\u001b[0;32m--> 627\u001b[0;31m                 \u001b[0mdata\u001b[0m \u001b[0;34m=\u001b[0m \u001b[0mself\u001b[0m\u001b[0;34m.\u001b[0m\u001b[0mread\u001b[0m\u001b[0;34m(\u001b[0m\u001b[0mamt\u001b[0m\u001b[0;34m=\u001b[0m\u001b[0mamt\u001b[0m\u001b[0;34m,\u001b[0m \u001b[0mdecode_content\u001b[0m\u001b[0;34m=\u001b[0m\u001b[0mdecode_content\u001b[0m\u001b[0;34m)\u001b[0m\u001b[0;34m\u001b[0m\u001b[0;34m\u001b[0m\u001b[0m\n\u001b[0m\u001b[1;32m    628\u001b[0m \u001b[0;34m\u001b[0m\u001b[0m\n\u001b[1;32m    629\u001b[0m                 \u001b[0;32mif\u001b[0m \u001b[0mdata\u001b[0m\u001b[0;34m:\u001b[0m\u001b[0;34m\u001b[0m\u001b[0;34m\u001b[0m\u001b[0m\n",
      "\u001b[0;32m~/opt/anaconda3/lib/python3.8/site-packages/urllib3/response.py\u001b[0m in \u001b[0;36mread\u001b[0;34m(self, amt, decode_content, cache_content)\u001b[0m\n\u001b[1;32m    564\u001b[0m \u001b[0;34m\u001b[0m\u001b[0m\n\u001b[1;32m    565\u001b[0m         \u001b[0;32mwith\u001b[0m \u001b[0mself\u001b[0m\u001b[0;34m.\u001b[0m\u001b[0m_error_catcher\u001b[0m\u001b[0;34m(\u001b[0m\u001b[0;34m)\u001b[0m\u001b[0;34m:\u001b[0m\u001b[0;34m\u001b[0m\u001b[0;34m\u001b[0m\u001b[0m\n\u001b[0;32m--> 566\u001b[0;31m             \u001b[0mdata\u001b[0m \u001b[0;34m=\u001b[0m \u001b[0mself\u001b[0m\u001b[0;34m.\u001b[0m\u001b[0m_fp_read\u001b[0m\u001b[0;34m(\u001b[0m\u001b[0mamt\u001b[0m\u001b[0;34m)\u001b[0m \u001b[0;32mif\u001b[0m \u001b[0;32mnot\u001b[0m \u001b[0mfp_closed\u001b[0m \u001b[0;32melse\u001b[0m \u001b[0;34mb\"\"\u001b[0m\u001b[0;34m\u001b[0m\u001b[0;34m\u001b[0m\u001b[0m\n\u001b[0m\u001b[1;32m    567\u001b[0m             \u001b[0;32mif\u001b[0m \u001b[0mamt\u001b[0m \u001b[0;32mis\u001b[0m \u001b[0;32mNone\u001b[0m\u001b[0;34m:\u001b[0m\u001b[0;34m\u001b[0m\u001b[0;34m\u001b[0m\u001b[0m\n\u001b[1;32m    568\u001b[0m                 \u001b[0mflush_decoder\u001b[0m \u001b[0;34m=\u001b[0m \u001b[0;32mTrue\u001b[0m\u001b[0;34m\u001b[0m\u001b[0;34m\u001b[0m\u001b[0m\n",
      "\u001b[0;32m~/opt/anaconda3/lib/python3.8/site-packages/urllib3/response.py\u001b[0m in \u001b[0;36m_fp_read\u001b[0;34m(self, amt)\u001b[0m\n\u001b[1;32m    530\u001b[0m         \u001b[0;32melse\u001b[0m\u001b[0;34m:\u001b[0m\u001b[0;34m\u001b[0m\u001b[0;34m\u001b[0m\u001b[0m\n\u001b[1;32m    531\u001b[0m             \u001b[0;31m# StringIO doesn't like amt=None\u001b[0m\u001b[0;34m\u001b[0m\u001b[0;34m\u001b[0m\u001b[0;34m\u001b[0m\u001b[0m\n\u001b[0;32m--> 532\u001b[0;31m             \u001b[0;32mreturn\u001b[0m \u001b[0mself\u001b[0m\u001b[0;34m.\u001b[0m\u001b[0m_fp\u001b[0m\u001b[0;34m.\u001b[0m\u001b[0mread\u001b[0m\u001b[0;34m(\u001b[0m\u001b[0mamt\u001b[0m\u001b[0;34m)\u001b[0m \u001b[0;32mif\u001b[0m \u001b[0mamt\u001b[0m \u001b[0;32mis\u001b[0m \u001b[0;32mnot\u001b[0m \u001b[0;32mNone\u001b[0m \u001b[0;32melse\u001b[0m \u001b[0mself\u001b[0m\u001b[0;34m.\u001b[0m\u001b[0m_fp\u001b[0m\u001b[0;34m.\u001b[0m\u001b[0mread\u001b[0m\u001b[0;34m(\u001b[0m\u001b[0;34m)\u001b[0m\u001b[0;34m\u001b[0m\u001b[0;34m\u001b[0m\u001b[0m\n\u001b[0m\u001b[1;32m    533\u001b[0m \u001b[0;34m\u001b[0m\u001b[0m\n\u001b[1;32m    534\u001b[0m     \u001b[0;32mdef\u001b[0m \u001b[0mread\u001b[0m\u001b[0;34m(\u001b[0m\u001b[0mself\u001b[0m\u001b[0;34m,\u001b[0m \u001b[0mamt\u001b[0m\u001b[0;34m=\u001b[0m\u001b[0;32mNone\u001b[0m\u001b[0;34m,\u001b[0m \u001b[0mdecode_content\u001b[0m\u001b[0;34m=\u001b[0m\u001b[0;32mNone\u001b[0m\u001b[0;34m,\u001b[0m \u001b[0mcache_content\u001b[0m\u001b[0;34m=\u001b[0m\u001b[0;32mFalse\u001b[0m\u001b[0;34m)\u001b[0m\u001b[0;34m:\u001b[0m\u001b[0;34m\u001b[0m\u001b[0;34m\u001b[0m\u001b[0m\n",
      "\u001b[0;32m~/opt/anaconda3/lib/python3.8/http/client.py\u001b[0m in \u001b[0;36mread\u001b[0;34m(self, amt)\u001b[0m\n\u001b[1;32m    452\u001b[0m             \u001b[0;31m# Amount is given, implement using readinto\u001b[0m\u001b[0;34m\u001b[0m\u001b[0;34m\u001b[0m\u001b[0;34m\u001b[0m\u001b[0m\n\u001b[1;32m    453\u001b[0m             \u001b[0mb\u001b[0m \u001b[0;34m=\u001b[0m \u001b[0mbytearray\u001b[0m\u001b[0;34m(\u001b[0m\u001b[0mamt\u001b[0m\u001b[0;34m)\u001b[0m\u001b[0;34m\u001b[0m\u001b[0;34m\u001b[0m\u001b[0m\n\u001b[0;32m--> 454\u001b[0;31m             \u001b[0mn\u001b[0m \u001b[0;34m=\u001b[0m \u001b[0mself\u001b[0m\u001b[0;34m.\u001b[0m\u001b[0mreadinto\u001b[0m\u001b[0;34m(\u001b[0m\u001b[0mb\u001b[0m\u001b[0;34m)\u001b[0m\u001b[0;34m\u001b[0m\u001b[0;34m\u001b[0m\u001b[0m\n\u001b[0m\u001b[1;32m    455\u001b[0m             \u001b[0;32mreturn\u001b[0m \u001b[0mmemoryview\u001b[0m\u001b[0;34m(\u001b[0m\u001b[0mb\u001b[0m\u001b[0;34m)\u001b[0m\u001b[0;34m[\u001b[0m\u001b[0;34m:\u001b[0m\u001b[0mn\u001b[0m\u001b[0;34m]\u001b[0m\u001b[0;34m.\u001b[0m\u001b[0mtobytes\u001b[0m\u001b[0;34m(\u001b[0m\u001b[0;34m)\u001b[0m\u001b[0;34m\u001b[0m\u001b[0;34m\u001b[0m\u001b[0m\n\u001b[1;32m    456\u001b[0m         \u001b[0;32melse\u001b[0m\u001b[0;34m:\u001b[0m\u001b[0;34m\u001b[0m\u001b[0;34m\u001b[0m\u001b[0m\n",
      "\u001b[0;32m~/opt/anaconda3/lib/python3.8/http/client.py\u001b[0m in \u001b[0;36mreadinto\u001b[0;34m(self, b)\u001b[0m\n\u001b[1;32m    496\u001b[0m         \u001b[0;31m# connection, and the user is reading more bytes than will be provided\u001b[0m\u001b[0;34m\u001b[0m\u001b[0;34m\u001b[0m\u001b[0;34m\u001b[0m\u001b[0m\n\u001b[1;32m    497\u001b[0m         \u001b[0;31m# (for example, reading in 1k chunks)\u001b[0m\u001b[0;34m\u001b[0m\u001b[0;34m\u001b[0m\u001b[0;34m\u001b[0m\u001b[0m\n\u001b[0;32m--> 498\u001b[0;31m         \u001b[0mn\u001b[0m \u001b[0;34m=\u001b[0m \u001b[0mself\u001b[0m\u001b[0;34m.\u001b[0m\u001b[0mfp\u001b[0m\u001b[0;34m.\u001b[0m\u001b[0mreadinto\u001b[0m\u001b[0;34m(\u001b[0m\u001b[0mb\u001b[0m\u001b[0;34m)\u001b[0m\u001b[0;34m\u001b[0m\u001b[0;34m\u001b[0m\u001b[0m\n\u001b[0m\u001b[1;32m    499\u001b[0m         \u001b[0;32mif\u001b[0m \u001b[0;32mnot\u001b[0m \u001b[0mn\u001b[0m \u001b[0;32mand\u001b[0m \u001b[0mb\u001b[0m\u001b[0;34m:\u001b[0m\u001b[0;34m\u001b[0m\u001b[0;34m\u001b[0m\u001b[0m\n\u001b[1;32m    500\u001b[0m             \u001b[0;31m# Ideally, we would raise IncompleteRead if the content-length\u001b[0m\u001b[0;34m\u001b[0m\u001b[0;34m\u001b[0m\u001b[0;34m\u001b[0m\u001b[0m\n",
      "\u001b[0;32m~/opt/anaconda3/lib/python3.8/socket.py\u001b[0m in \u001b[0;36mreadinto\u001b[0;34m(self, b)\u001b[0m\n\u001b[1;32m    667\u001b[0m         \u001b[0;32mwhile\u001b[0m \u001b[0;32mTrue\u001b[0m\u001b[0;34m:\u001b[0m\u001b[0;34m\u001b[0m\u001b[0;34m\u001b[0m\u001b[0m\n\u001b[1;32m    668\u001b[0m             \u001b[0;32mtry\u001b[0m\u001b[0;34m:\u001b[0m\u001b[0;34m\u001b[0m\u001b[0;34m\u001b[0m\u001b[0m\n\u001b[0;32m--> 669\u001b[0;31m                 \u001b[0;32mreturn\u001b[0m \u001b[0mself\u001b[0m\u001b[0;34m.\u001b[0m\u001b[0m_sock\u001b[0m\u001b[0;34m.\u001b[0m\u001b[0mrecv_into\u001b[0m\u001b[0;34m(\u001b[0m\u001b[0mb\u001b[0m\u001b[0;34m)\u001b[0m\u001b[0;34m\u001b[0m\u001b[0;34m\u001b[0m\u001b[0m\n\u001b[0m\u001b[1;32m    670\u001b[0m             \u001b[0;32mexcept\u001b[0m \u001b[0mtimeout\u001b[0m\u001b[0;34m:\u001b[0m\u001b[0;34m\u001b[0m\u001b[0;34m\u001b[0m\u001b[0m\n\u001b[1;32m    671\u001b[0m                 \u001b[0mself\u001b[0m\u001b[0;34m.\u001b[0m\u001b[0m_timeout_occurred\u001b[0m \u001b[0;34m=\u001b[0m \u001b[0;32mTrue\u001b[0m\u001b[0;34m\u001b[0m\u001b[0;34m\u001b[0m\u001b[0m\n",
      "\u001b[0;32m~/opt/anaconda3/lib/python3.8/ssl.py\u001b[0m in \u001b[0;36mrecv_into\u001b[0;34m(self, buffer, nbytes, flags)\u001b[0m\n\u001b[1;32m   1239\u001b[0m                   \u001b[0;34m\"non-zero flags not allowed in calls to recv_into() on %s\"\u001b[0m \u001b[0;34m%\u001b[0m\u001b[0;34m\u001b[0m\u001b[0;34m\u001b[0m\u001b[0m\n\u001b[1;32m   1240\u001b[0m                   self.__class__)\n\u001b[0;32m-> 1241\u001b[0;31m             \u001b[0;32mreturn\u001b[0m \u001b[0mself\u001b[0m\u001b[0;34m.\u001b[0m\u001b[0mread\u001b[0m\u001b[0;34m(\u001b[0m\u001b[0mnbytes\u001b[0m\u001b[0;34m,\u001b[0m \u001b[0mbuffer\u001b[0m\u001b[0;34m)\u001b[0m\u001b[0;34m\u001b[0m\u001b[0;34m\u001b[0m\u001b[0m\n\u001b[0m\u001b[1;32m   1242\u001b[0m         \u001b[0;32melse\u001b[0m\u001b[0;34m:\u001b[0m\u001b[0;34m\u001b[0m\u001b[0;34m\u001b[0m\u001b[0m\n\u001b[1;32m   1243\u001b[0m             \u001b[0;32mreturn\u001b[0m \u001b[0msuper\u001b[0m\u001b[0;34m(\u001b[0m\u001b[0;34m)\u001b[0m\u001b[0;34m.\u001b[0m\u001b[0mrecv_into\u001b[0m\u001b[0;34m(\u001b[0m\u001b[0mbuffer\u001b[0m\u001b[0;34m,\u001b[0m \u001b[0mnbytes\u001b[0m\u001b[0;34m,\u001b[0m \u001b[0mflags\u001b[0m\u001b[0;34m)\u001b[0m\u001b[0;34m\u001b[0m\u001b[0;34m\u001b[0m\u001b[0m\n",
      "\u001b[0;32m~/opt/anaconda3/lib/python3.8/ssl.py\u001b[0m in \u001b[0;36mread\u001b[0;34m(self, len, buffer)\u001b[0m\n\u001b[1;32m   1097\u001b[0m         \u001b[0;32mtry\u001b[0m\u001b[0;34m:\u001b[0m\u001b[0;34m\u001b[0m\u001b[0;34m\u001b[0m\u001b[0m\n\u001b[1;32m   1098\u001b[0m             \u001b[0;32mif\u001b[0m \u001b[0mbuffer\u001b[0m \u001b[0;32mis\u001b[0m \u001b[0;32mnot\u001b[0m \u001b[0;32mNone\u001b[0m\u001b[0;34m:\u001b[0m\u001b[0;34m\u001b[0m\u001b[0;34m\u001b[0m\u001b[0m\n\u001b[0;32m-> 1099\u001b[0;31m                 \u001b[0;32mreturn\u001b[0m \u001b[0mself\u001b[0m\u001b[0;34m.\u001b[0m\u001b[0m_sslobj\u001b[0m\u001b[0;34m.\u001b[0m\u001b[0mread\u001b[0m\u001b[0;34m(\u001b[0m\u001b[0mlen\u001b[0m\u001b[0;34m,\u001b[0m \u001b[0mbuffer\u001b[0m\u001b[0;34m)\u001b[0m\u001b[0;34m\u001b[0m\u001b[0;34m\u001b[0m\u001b[0m\n\u001b[0m\u001b[1;32m   1100\u001b[0m             \u001b[0;32melse\u001b[0m\u001b[0;34m:\u001b[0m\u001b[0;34m\u001b[0m\u001b[0;34m\u001b[0m\u001b[0m\n\u001b[1;32m   1101\u001b[0m                 \u001b[0;32mreturn\u001b[0m \u001b[0mself\u001b[0m\u001b[0;34m.\u001b[0m\u001b[0m_sslobj\u001b[0m\u001b[0;34m.\u001b[0m\u001b[0mread\u001b[0m\u001b[0;34m(\u001b[0m\u001b[0mlen\u001b[0m\u001b[0;34m)\u001b[0m\u001b[0;34m\u001b[0m\u001b[0;34m\u001b[0m\u001b[0m\n",
      "\u001b[0;31mKeyboardInterrupt\u001b[0m: "
     ]
    }
   ],
   "source": [
    "from astroquery.mast import Observations\n",
    "all_obs = Observations.query_criteria(provenance_name=\"FRESCO\")\n",
    "data_products = Observations.get_product_list(all_obs)\n",
    "Observations.download_products(data_products)"
   ]
  },
  {
   "cell_type": "code",
   "execution_count": null,
   "metadata": {},
   "outputs": [],
   "source": [
    "# Open the FITS file\n",
    "with fits.open('O2022030903-NRCA3_FULL-1.fits') as hdulist:\n",
    "    # Access the data from the first HDU (usually the primary HDU)\n",
    "    data = hdulist[0].data\n",
    "\n",
    "# Display the data using matplotlib\n",
    "plt.imshow(data, cmap='gray')\n",
    "plt.colorbar()\n",
    "plt.show()"
   ]
  },
  {
   "cell_type": "code",
   "execution_count": null,
   "metadata": {},
   "outputs": [],
   "source": []
  }
 ],
 "metadata": {
  "kernelspec": {
   "display_name": "Python 3",
   "language": "python",
   "name": "python3"
  },
  "language_info": {
   "codemirror_mode": {
    "name": "ipython",
    "version": 3
   },
   "file_extension": ".py",
   "mimetype": "text/x-python",
   "name": "python",
   "nbconvert_exporter": "python",
   "pygments_lexer": "ipython3",
   "version": "3.8.3"
  }
 },
 "nbformat": 4,
 "nbformat_minor": 4
}
